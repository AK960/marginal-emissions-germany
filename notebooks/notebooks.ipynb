{
 "cells": [
  {
   "cell_type": "code",
   "id": "initial_id",
   "metadata": {
    "ExecuteTime": {
     "end_time": "2025-09-09T22:59:20.715216Z",
     "start_time": "2025-09-09T22:59:20.712572Z"
    }
   },
   "source": [
    "from marginal_emissions import EnergyChartsClient\n",
    "import pandas as pd"
   ],
   "outputs": [],
   "execution_count": 11
  },
  {
   "metadata": {
    "ExecuteTime": {
     "end_time": "2025-09-09T22:59:25.084756Z",
     "start_time": "2025-09-09T22:59:25.080451Z"
    }
   },
   "cell_type": "code",
   "source": [
    "client = EnergyChartsClient()\n",
    "start_date = \"2025-01-01\"\n",
    "end_date = \"2025-09-07\"\n",
    "country = \"de\""
   ],
   "id": "565cff8f0b48798d",
   "outputs": [],
   "execution_count": 12
  },
  {
   "metadata": {
    "ExecuteTime": {
     "end_time": "2025-09-09T22:59:32.749322Z",
     "start_time": "2025-09-09T22:59:27.977637Z"
    }
   },
   "cell_type": "code",
   "source": [
    "try:\n",
    "    df_power = client.get_public_power(start_date, end_date)\n",
    "    print(df_power.head())\n",
    "except Exception as e:\n",
    "    print(e)"
   ],
   "id": "1bb162d7b276f6b4",
   "outputs": [
    {
     "name": "stdout",
     "output_type": "stream",
     "text": [
      "                  timestamp  Hydro pumped storage consumption  \\\n",
      "0 2024-12-31 23:00:00+00:00                            -720.5   \n",
      "1 2024-12-31 23:15:00+00:00                            -828.9   \n",
      "2 2024-12-31 23:30:00+00:00                            -940.4   \n",
      "3 2024-12-31 23:45:00+00:00                            -979.7   \n",
      "4 2025-01-01 00:00:00+00:00                            -658.1   \n",
      "\n",
      "   Cross border electricity trading  Hydro Run-of-River  Biomass  \\\n",
      "0                          -11166.1              1706.2   4075.3   \n",
      "1                          -11166.1              1721.0   3943.3   \n",
      "2                          -10936.5              1720.6   3882.6   \n",
      "3                          -10936.5              1751.2   3854.1   \n",
      "4                          -12252.4              1723.3   3919.8   \n",
      "\n",
      "   Fossil brown coal / lignite  Fossil hard coal  Fossil oil  \\\n",
      "0                       3267.6            2890.5       382.1   \n",
      "1                       3281.4            2628.4       382.2   \n",
      "2                       3278.1            2602.5       382.2   \n",
      "3                       3309.5            2589.8       382.2   \n",
      "4                       3848.7            2582.7       382.2   \n",
      "\n",
      "   Fossil coal-derived gas  Fossil gas  ...  Others   Waste  Wind offshore  \\\n",
      "0                    668.7      4139.5  ...   211.7   997.3         2415.1   \n",
      "1                    568.0      4125.5  ...   211.7   997.0         2601.3   \n",
      "2                    567.1      4086.5  ...   211.8   997.1         2542.3   \n",
      "3                    579.2      4141.6  ...   211.7   998.6         2450.0   \n",
      "4                    570.7      3960.2  ...   211.6  1002.6         2252.6   \n",
      "\n",
      "   Wind onshore  Solar     Load  Residual load  Renewable share of load  \\\n",
      "0       32060.2    0.0  48412.1        13936.9                     84.4   \n",
      "1       31922.3    0.0  47534.7        13011.1                     85.9   \n",
      "2       31920.9    0.0  47573.4        13110.3                     85.4   \n",
      "3       31982.0    0.0  47446.9        13014.9                     85.6   \n",
      "4       32334.3    0.0  47200.3        12613.4                     86.4   \n",
      "\n",
      "   Renewable share of generation  deprecated  \n",
      "0                           76.5       False  \n",
      "1                           76.5       False  \n",
      "2                           77.1       False  \n",
      "3                           77.4       False  \n",
      "4                           76.6       False  \n",
      "\n",
      "[5 rows x 23 columns]\n"
     ]
    }
   ],
   "execution_count": 13
  },
  {
   "metadata": {
    "ExecuteTime": {
     "end_time": "2025-09-09T22:59:54.259117Z",
     "start_time": "2025-09-09T22:59:53.919984Z"
    }
   },
   "cell_type": "code",
   "source": "df_power.to_csv(f\"../data/ec_public_power_{start_date.replace(\"-\", \"\")}_{end_date.replace(\"-\", \"\")}_{country}.csv\", index=False)",
   "id": "fd89ff4f74be0d29",
   "outputs": [],
   "execution_count": 14
  },
  {
   "metadata": {
    "ExecuteTime": {
     "end_time": "2025-09-09T23:01:07.147661Z",
     "start_time": "2025-09-09T23:01:02.200832Z"
    }
   },
   "cell_type": "code",
   "source": [
    "try:\n",
    "    df_cbpf = client.get_cbpf(start_date, end_date)\n",
    "    print(df_cbpf.head())\n",
    "except Exception as e:\n",
    "    print(e)"
   ],
   "id": "d8ad4d8570676e2b",
   "outputs": [
    {
     "name": "stdout",
     "output_type": "stream",
     "text": [
      "                  timestamp  Austria  Belgium  Czech Republic  Denmark  \\\n",
      "0 2024-12-31 23:00:00+00:00   -2.677   -0.993          -1.287   -0.104   \n",
      "1 2024-12-31 23:15:00+00:00   -2.885   -0.994          -1.329   -0.186   \n",
      "2 2024-12-31 23:30:00+00:00   -2.567   -0.994          -1.435   -0.110   \n",
      "3 2024-12-31 23:45:00+00:00   -2.528   -0.975          -1.435   -0.210   \n",
      "4 2025-01-01 00:00:00+00:00   -2.765   -0.781          -1.593   -0.961   \n",
      "\n",
      "   France  Luxembourg  Netherlands  Norway  Poland  Sweden  Switzerland  \\\n",
      "0   0.925      -0.265        1.147  -1.017  -1.935  -0.506       -3.263   \n",
      "1   0.925      -0.271        1.138  -1.120  -2.051  -0.506       -2.985   \n",
      "2   0.925      -0.246        1.079  -1.120  -2.141  -0.506       -2.770   \n",
      "3   0.925      -0.228        1.246  -1.120  -2.001  -0.506       -3.059   \n",
      "4   0.941      -0.242        1.120  -1.120  -2.227  -0.506       -3.392   \n",
      "\n",
      "      sum  deprecated  \n",
      "0  -9.975       False  \n",
      "1 -10.263       False  \n",
      "2  -9.885       False  \n",
      "3  -9.892       False  \n",
      "4 -11.526       False  \n"
     ]
    }
   ],
   "execution_count": 15
  },
  {
   "metadata": {
    "ExecuteTime": {
     "end_time": "2025-09-09T23:01:27.484374Z",
     "start_time": "2025-09-09T23:01:27.256597Z"
    }
   },
   "cell_type": "code",
   "source": "df_cbpf.to_csv(f\"../data/ec_cbpf_{start_date.replace(\"-\", \"\")}_{end_date.replace(\"-\", \"\")}_{country}.csv\", index=False)",
   "id": "6c3b5b58afaddd63",
   "outputs": [],
   "execution_count": 16
  }
 ],
 "metadata": {
  "kernelspec": {
   "display_name": "Python 3",
   "language": "python",
   "name": "python3"
  },
  "language_info": {
   "codemirror_mode": {
    "name": "ipython",
    "version": 2
   },
   "file_extension": ".py",
   "mimetype": "text/x-python",
   "name": "python",
   "nbconvert_exporter": "python",
   "pygments_lexer": "ipython2",
   "version": "2.7.6"
  }
 },
 "nbformat": 4,
 "nbformat_minor": 5
}
